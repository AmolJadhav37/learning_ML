{
 "cells": [
  {
   "cell_type": "code",
   "execution_count": 1,
   "id": "5d9ee6ad",
   "metadata": {
    "vscode": {
     "languageId": "plaintext"
    }
   },
   "outputs": [
    {
     "name": "stdout",
     "output_type": "stream",
     "text": [
      "hello world!\n"
     ]
    }
   ],
   "source": [
    "print(\"hello world!\")"
   ]
  },
  {
   "cell_type": "code",
   "execution_count": null,
   "id": "202622c7",
   "metadata": {},
   "outputs": [
    {
     "name": "stdout",
     "output_type": "stream",
     "text": [
      "learning numpy\n"
     ]
    }
   ],
   "source": [
    "print(\"learning numpy\")\n",
    "#numpy is a library having numerical python\n",
    "#it is used for scientific computing and data analysis"
   ]
  },
  {
   "cell_type": "code",
   "execution_count": 5,
   "id": "c4ad676b",
   "metadata": {},
   "outputs": [
    {
     "name": "stdout",
     "output_type": "stream",
     "text": [
      "the elements of array are:  array('i', [1, 2, 3, 4, 5, 65])\n"
     ]
    }
   ],
   "source": [
    "from array import *\n",
    "arr= array('i',map(int, input(\"Enter the elements of array separated by space: \").split()))\n",
    "print(\"the elements of array are: \", arr)"
   ]
  },
  {
   "cell_type": "code",
   "execution_count": null,
   "id": "2aa80f87",
   "metadata": {},
   "outputs": [
    {
     "name": "stdout",
     "output_type": "stream",
     "text": [
      "2 3 4 5 \n",
      "<class 'numpy.ndarray'>\n"
     ]
    }
   ],
   "source": [
    "import numpy as np\n",
    "#normal arrays \n",
    "arr1 = np.array(list(map(int , input(\"enter the elements of numpy array:\").split())))\n",
    "for i in arr1:\n",
    "    print(i, end=\" \")\n",
    "print()\n",
    "print(type(arr1))"
   ]
  },
  {
   "cell_type": "code",
   "execution_count": null,
   "id": "b11de0d5",
   "metadata": {},
   "outputs": [
    {
     "name": "stdout",
     "output_type": "stream",
     "text": [
      "[ 1  3  5  7  9 11]\n",
      "[0 1 2 3 4 5 6 7 8 9]\n"
     ]
    }
   ],
   "source": [
    "#range function in numpy\n",
    "arr2= np.arange(1,12,2)\n",
    "print(arr2)\n",
    "arr3=np.arange(10)\n",
    "print(arr3)"
   ]
  },
  {
   "cell_type": "code",
   "execution_count": 24,
   "id": "6063aead",
   "metadata": {},
   "outputs": [
    {
     "name": "stdout",
     "output_type": "stream",
     "text": [
      "[0. 0. 0. 0. 0. 0. 0. 0. 0. 0.]\n",
      "[1. 1. 1. 1. 1. 1. 1. 1. 1. 1.]\n"
     ]
    }
   ],
   "source": [
    "#zeros and ones in numpy\n",
    "arr4=np.zeros(10)\n",
    "print(arr4)\n",
    "arr5=np.ones(10)\n",
    "print(arr5)"
   ]
  },
  {
   "cell_type": "code",
   "execution_count": null,
   "id": "a3be6de2",
   "metadata": {},
   "outputs": [],
   "source": [
    "#multi-dimensional arrays"
   ]
  }
 ],
 "metadata": {
  "kernelspec": {
   "display_name": "Python 3 (ipykernel)",
   "language": "python",
   "name": "python3"
  },
  "language_info": {
   "codemirror_mode": {
    "name": "ipython",
    "version": 3
   },
   "file_extension": ".py",
   "mimetype": "text/x-python",
   "name": "python",
   "nbconvert_exporter": "python",
   "pygments_lexer": "ipython3",
   "version": "3.12.3"
  }
 },
 "nbformat": 4,
 "nbformat_minor": 5
}
